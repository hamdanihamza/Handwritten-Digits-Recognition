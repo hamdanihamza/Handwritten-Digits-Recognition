{
  "nbformat": 4,
  "nbformat_minor": 0,
  "metadata": {
    "colab": {
      "name": "Handwritten Digits Recognition",
      "provenance": [],
      "collapsed_sections": [],
      "authorship_tag": "ABX9TyMQtnRocxKAePX8JAwoDsy2",
      "include_colab_link": true
    },
    "kernelspec": {
      "name": "python3",
      "display_name": "Python 3"
    }
  },
  "cells": [
    {
      "cell_type": "markdown",
      "metadata": {
        "id": "view-in-github",
        "colab_type": "text"
      },
      "source": [
        "<a href=\"https://colab.research.google.com/github/hamdanihamza/Handwritten-Digits-Recognition/blob/master/Handwritten_Digits_Recognition.ipynb\" target=\"_parent\"><img src=\"https://colab.research.google.com/assets/colab-badge.svg\" alt=\"Open In Colab\"/></a>"
      ]
    },
    {
      "cell_type": "markdown",
      "metadata": {
        "id": "QmtW4DChCZDP"
      },
      "source": [
        "# Importing Libraries"
      ]
    },
    {
      "cell_type": "code",
      "metadata": {
        "id": "levrO1hCBdvs"
      },
      "source": [
        "from keras.datasets import mnist\r\n",
        "import matplotlib.pyplot as plt\r\n",
        "import numpy as np\r\n",
        "import random\r\n",
        "from keras.utils import np_utils"
      ],
      "execution_count": 100,
      "outputs": []
    },
    {
      "cell_type": "markdown",
      "metadata": {
        "id": "isRiZt4LCcGt"
      },
      "source": [
        "# Downloading the Dataset"
      ]
    },
    {
      "cell_type": "code",
      "metadata": {
        "id": "hCp5NG-EBoNN"
      },
      "source": [
        "(X_train, y_train), (X_test, y_test) = mnist.load_data()"
      ],
      "execution_count": 120,
      "outputs": []
    },
    {
      "cell_type": "code",
      "metadata": {
        "colab": {
          "base_uri": "https://localhost:8080/",
          "height": 268
        },
        "id": "at4WGJw-Bojz",
        "outputId": "e44364aa-c8e1-4e04-cfe4-ec77eb3024c8"
      },
      "source": [
        "for i in range(9):\r\n",
        "\tplt.subplot(330 + 1 + i)\r\n",
        "\tplt.imshow(X_train[i], cmap=plt.get_cmap('gray'))\r\n",
        "\r\n",
        "plt.show()"
      ],
      "execution_count": 68,
      "outputs": [
        {
          "output_type": "display_data",
          "data": {
            "image/png": "[encoded data removed]",
            "text/plain": [
              "<Figure size 432x288 with 9 Axes>"
            ]
          },
          "metadata": {
            "tags": [],
            "needs_background": "light"
          }
        }
      ]
    },
    {
      "cell_type": "markdown",
      "metadata": {
        "id": "Zpf3OmWBChaz"
      },
      "source": [
        "**The dataset contains 70k grayscaled images sized by 28x28<br>\r\n",
        "Each image is a handwritten digit.**"
      ]
    },
    {
      "cell_type": "code",
      "metadata": {
        "colab": {
          "base_uri": "https://localhost:8080/"
        },
        "id": "mgAlUdpcBolT",
        "outputId": "a58269ac-058c-482f-8135-5267b377399c"
      },
      "source": [
        "print(\"Shape of Training Example : \",X_train.shape)\r\n",
        "print(\"Shape of Testing Example : \",X_test.shape)\r\n",
        "print(\"Number of Training Example : \",X_train.shape[0])\r\n",
        "print(\"Number of Testing Example : \",X_test.shape[0])"
      ],
      "execution_count": 121,
      "outputs": [
        {
          "output_type": "stream",
          "text": [
            "Shape of Training Example :  (60000, 28, 28)\n",
            "Shape of Testing Example :  (10000, 28, 28)\n",
            "Number of Training Example :  60000\n",
            "Number of Testing Example :  10000\n"
          ],
          "name": "stdout"
        }
      ]
    },
    {
      "cell_type": "markdown",
      "metadata": {
        "id": "20-_TaozNPUb"
      },
      "source": [
        "**Reshape 28x28 image to 784 vector.**"
      ]
    },
    {
      "cell_type": "code",
      "metadata": {
        "id": "-CNDSlzWJOTi"
      },
      "source": [
        "num_pixels = X_train.shape[1] * X_train.shape[2]\r\n",
        "X_train = X_train.reshape((X_train.shape[0], num_pixels)).astype('float32')\r\n",
        "X_test = X_test.reshape((X_test.shape[0], num_pixels)).astype('float32')"
      ],
      "execution_count": 122,
      "outputs": []
    },
    {
      "cell_type": "markdown",
      "metadata": {
        "id": "-NtrOSmXC16M"
      },
      "source": [
        "# Modeling"
      ]
    },
    {
      "cell_type": "markdown",
      "metadata": {
        "id": "NkBrwDp1DuND"
      },
      "source": [
        "## 1. Neural Nets"
      ]
    },
    {
      "cell_type": "code",
      "metadata": {
        "id": "BoPmIcfbDwGE"
      },
      "source": [
        "from tensorflow.keras.models import Sequential\r\n",
        "from tensorflow.keras.layers import Dense, Dropout, Activation#, Dropout, Activation, Flatten, Conv2D, MaxPooling2D, BatchNormalization"
      ],
      "execution_count": 87,
      "outputs": []
    },
    {
      "cell_type": "markdown",
      "metadata": {
        "id": "s_YwLgZANcyL"
      },
      "source": [
        "**Training...**"
      ]
    },
    {
      "cell_type": "code",
      "metadata": {
        "colab": {
          "base_uri": "https://localhost:8080/"
        },
        "id": "m2gJtf1xDwu_",
        "outputId": "4157e494-08a5-4855-f757-57f3915dd67d"
      },
      "source": [
        "model = Sequential()\r\n",
        "model.add(Dense(units=64, input_shape=(784, )))\r\n",
        "model.add(Activation(\"relu\"))\r\n",
        "model.add(Dense(units=64))\r\n",
        "model.add(Activation(\"relu\"))\r\n",
        "model.add(Dense(units=10))\r\n",
        "model.add(Activation(\"softmax\"))\r\n",
        "\r\n",
        "model.compile(loss=\"sparse_categorical_crossentropy\", \r\n",
        "             optimizer=\"adam\",\r\n",
        "             metrics=['accuracy'])\r\n",
        "\r\n",
        "# 20% on validation set\r\n",
        "history = model.fit(X_train, y_train, batch_size=256, epochs=20, validation_split=0.3)"
      ],
      "execution_count": 131,
      "outputs": [
        {
          "output_type": "stream",
          "text": [
            "Epoch 1/20\n",
            "165/165 [==============================] - 1s 7ms/step - loss: 19.0487 - accuracy: 0.5633 - val_loss: 1.5459 - val_accuracy: 0.8299\n",
            "Epoch 2/20\n",
            "165/165 [==============================] - 1s 5ms/step - loss: 1.1714 - accuracy: 0.8564 - val_loss: 0.9532 - val_accuracy: 0.8647\n",
            "Epoch 3/20\n",
            "165/165 [==============================] - 1s 5ms/step - loss: 0.7089 - accuracy: 0.8890 - val_loss: 0.6889 - val_accuracy: 0.8911\n",
            "Epoch 4/20\n",
            "165/165 [==============================] - 1s 5ms/step - loss: 0.4820 - accuracy: 0.9098 - val_loss: 0.5920 - val_accuracy: 0.9006\n",
            "Epoch 5/20\n",
            "165/165 [==============================] - 1s 5ms/step - loss: 0.3845 - accuracy: 0.9196 - val_loss: 0.5459 - val_accuracy: 0.9046\n",
            "Epoch 6/20\n",
            "165/165 [==============================] - 1s 5ms/step - loss: 0.3356 - accuracy: 0.9261 - val_loss: 0.4897 - val_accuracy: 0.9143\n",
            "Epoch 7/20\n",
            "165/165 [==============================] - 1s 5ms/step - loss: 0.2262 - accuracy: 0.9445 - val_loss: 0.4333 - val_accuracy: 0.9234\n",
            "Epoch 8/20\n",
            "165/165 [==============================] - 1s 5ms/step - loss: 0.1950 - accuracy: 0.9497 - val_loss: 0.4125 - val_accuracy: 0.9232\n",
            "Epoch 9/20\n",
            "165/165 [==============================] - 1s 5ms/step - loss: 0.1827 - accuracy: 0.9522 - val_loss: 0.3960 - val_accuracy: 0.9309\n",
            "Epoch 10/20\n",
            "165/165 [==============================] - 1s 5ms/step - loss: 0.1450 - accuracy: 0.9615 - val_loss: 0.3938 - val_accuracy: 0.9288\n",
            "Epoch 11/20\n",
            "165/165 [==============================] - 1s 5ms/step - loss: 0.1283 - accuracy: 0.9645 - val_loss: 0.3730 - val_accuracy: 0.9311\n",
            "Epoch 12/20\n",
            "165/165 [==============================] - 1s 5ms/step - loss: 0.1144 - accuracy: 0.9679 - val_loss: 0.3802 - val_accuracy: 0.9321\n",
            "Epoch 13/20\n",
            "165/165 [==============================] - 1s 5ms/step - loss: 0.1411 - accuracy: 0.9621 - val_loss: 0.3874 - val_accuracy: 0.9333\n",
            "Epoch 14/20\n",
            "165/165 [==============================] - 1s 5ms/step - loss: 0.1144 - accuracy: 0.9674 - val_loss: 0.3778 - val_accuracy: 0.9351\n",
            "Epoch 15/20\n",
            "165/165 [==============================] - 1s 5ms/step - loss: 0.1647 - accuracy: 0.9588 - val_loss: 0.3715 - val_accuracy: 0.9348\n",
            "Epoch 16/20\n",
            "165/165 [==============================] - 1s 5ms/step - loss: 0.0997 - accuracy: 0.9724 - val_loss: 0.3409 - val_accuracy: 0.9404\n",
            "Epoch 17/20\n",
            "165/165 [==============================] - 1s 5ms/step - loss: 0.0832 - accuracy: 0.9757 - val_loss: 0.3663 - val_accuracy: 0.9394\n",
            "Epoch 18/20\n",
            "165/165 [==============================] - 1s 5ms/step - loss: 0.1002 - accuracy: 0.9719 - val_loss: 0.3573 - val_accuracy: 0.9382\n",
            "Epoch 19/20\n",
            "165/165 [==============================] - 1s 5ms/step - loss: 0.0856 - accuracy: 0.9750 - val_loss: 0.3758 - val_accuracy: 0.9409\n",
            "Epoch 20/20\n",
            "165/165 [==============================] - 1s 5ms/step - loss: 0.0664 - accuracy: 0.9802 - val_loss: 0.3815 - val_accuracy: 0.9422\n"
          ],
          "name": "stdout"
        }
      ]
    },
    {
      "cell_type": "markdown",
      "metadata": {
        "id": "pSEG2RzgNVbo"
      },
      "source": [
        "**Model Evaluation.**"
      ]
    },
    {
      "cell_type": "code",
      "metadata": {
        "colab": {
          "base_uri": "https://localhost:8080/"
        },
        "id": "ZotssVV2Dwmw",
        "outputId": "4e1021ff-b72d-46db-d620-2e0c879e2923"
      },
      "source": [
        "_, acc = model.evaluate(X_test, y_test)\r\n",
        "print('> %.3f' % (acc * 100.0))"
      ],
      "execution_count": 132,
      "outputs": [
        {
          "output_type": "stream",
          "text": [
            "313/313 [==============================] - 0s 1ms/step - loss: 0.3548 - accuracy: 0.9462\n",
            "> 94.620\n"
          ],
          "name": "stdout"
        }
      ]
    },
    {
      "cell_type": "markdown",
      "metadata": {
        "id": "IdO4xvfuNZYe"
      },
      "source": [
        "**Make Prediction.**"
      ]
    },
    {
      "cell_type": "code",
      "metadata": {
        "id": "quqgQYMzFeyY"
      },
      "source": [
        "prediction = model.predict(X_test)"
      ],
      "execution_count": 133,
      "outputs": []
    },
    {
      "cell_type": "code",
      "metadata": {
        "colab": {
          "base_uri": "https://localhost:8080/",
          "height": 300
        },
        "id": "5gL2bD97MU4f",
        "outputId": "15a6da28-4a83-4fa5-8c27-beb392be871f"
      },
      "source": [
        "index = int(input(\"Index of Test Image (0-9999) : \"))\r\n",
        "plt.imshow(X_test[index].reshape((28,28)), cmap=plt.get_cmap('gray'))\r\n",
        "plt.show()\r\n",
        "print(\"predicted value :\",np.argmax(prediction[index]))"
      ],
      "execution_count": 134,
      "outputs": [
        {
          "output_type": "stream",
          "text": [
            "Index of Test Image (0-9999) : 12\n"
          ],
          "name": "stdout"
        },
        {
          "output_type": "display_data",
          "data": {
            "image/png": "[encoded data removed]",
            "text/plain": [
              "<Figure size 432x288 with 1 Axes>"
            ]
          },
          "metadata": {
            "tags": [],
            "needs_background": "light"
          }
        },
        {
          "output_type": "stream",
          "text": [
            "predicted value : 9\n"
          ],
          "name": "stdout"
        }
      ]
    }
  ]
}